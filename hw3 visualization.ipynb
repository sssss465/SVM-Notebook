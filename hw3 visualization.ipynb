{
 "cells": [
  {
   "cell_type": "markdown",
   "metadata": {
    "deletable": true,
    "editable": true
   },
   "source": [
    "# SVM - Training with sci-kit learn\n",
    "\n",
    "\n",
    "Here is a test of Jupyter's Notebook based coding for Python! We will be using `SVM.svc()` by sci-kit learn to train our model.\n",
    "\n",
    "I thought I would start using notebook based coding after seeing a friend use it. It also supports $\\LaTeX$, a popular way to display math."
   ]
  },
  {
   "cell_type": "code",
   "execution_count": 1,
   "metadata": {
    "collapsed": true,
    "deletable": true,
    "editable": true
   },
   "outputs": [],
   "source": [
    "import matplotlib.pyplot as plt\n",
    "from sklearn import svm, metrics, preprocessing\n",
    "from sklearn.model_selection import cross_val_score\n",
    "import scipy as sp\n",
    "import random"
   ]
  },
  {
   "cell_type": "markdown",
   "metadata": {
    "deletable": true,
    "editable": true
   },
   "source": [
    "A key advantage of scipy, a superset of numpy, is that it allows for optimized and clean and vectorized code, similar to MATLAB. An example would be \n",
    "\n",
    "    a = np.arange(1, 10)\n",
    "    b = np.arange(2, 11)\n",
    "    c = a + b\n",
    "\n",
    "Below, we will train the model and make a prediction a testing set. First, we will scale our data so it is between -1 and 1 and divided by the standard deviation.\n",
    "  "
   ]
  },
  {
   "cell_type": "code",
   "execution_count": 2,
   "metadata": {
    "collapsed": false,
    "deletable": true,
    "editable": true
   },
   "outputs": [
    {
     "name": "stdout",
     "output_type": "stream",
     "text": [
      "Test predicted error is  0.057\n",
      "Test predicted accuracy is  0.943\n",
      "Cross val scores:  [ 0.94    0.935   0.94    0.9425  0.9375]\n"
     ]
    }
   ],
   "source": [
    "X = sp.genfromtxt('mnist_train.txt', delimiter=',')\n",
    "clf = svm.SVC(gamma=0.01, C= 40)\n",
    "scale = preprocessing.MinMaxScaler(feature_range=(-1, 1))\n",
    "clf.fit(scale.fit_transform(X[:, 1:]), X[:, 0])\n",
    "\n",
    "T = sp.genfromtxt('mnist_test.txt', delimiter=',')\n",
    "predicted = clf.predict(scale.transform(T[:, 1:]))\n",
    "\n",
    "error = sp.mean(T[:, 0] != predicted)\n",
    "print('Test predicted error is ', str(error))\n",
    "print('Test predicted accuracy is ', str(1 - error))\n",
    "\n",
    "scores = cross_val_score(clf, scale.transform(X[:, 1:]), X[:, 0], cv=5)\n",
    "print('Cross val scores: ', scores)"
   ]
  },
  {
   "cell_type": "markdown",
   "metadata": {
    "deletable": true,
    "editable": true
   },
   "source": [
    "## Visualization\n",
    "\n",
    "The Model has now been trained, and now it is time to view our results. The following code takes 15 random predictions and displays them in a coherent manner."
   ]
  },
  {
   "cell_type": "code",
   "execution_count": 3,
   "metadata": {
    "collapsed": false,
    "deletable": true,
    "editable": true
   },
   "outputs": [
    {
     "data": {
      "image/png": "[encoded data removed]",
      "text/plain": [
       "<matplotlib.figure.Figure at 0x10b357b00>"
      ]
     },
     "metadata": {},
     "output_type": "display_data"
    }
   ],
   "source": [
    "for index in range(15): # check 15 random predictions\n",
    "    plt.subplot(3, 5, index+1)\n",
    "    plt.axis('off')\n",
    "    i = random.randint(0, sp.shape(T)[0])\n",
    "    img = T[i, 1:].astype(sp.uint8).reshape(28, 28)\n",
    "    plt.imshow(img, cmap=plt.cm.gray_r, interpolation='nearest')\n",
    "    r = T[i, 1:].reshape(1, -1)\n",
    "    plt.title('label :%i' % T[i,0] + '\\n' +\n",
    "                'predict: %i' % clf.predict(scale.transform(r)))\n",
    "plt.show()\n"
   ]
  },
  {
   "cell_type": "markdown",
   "metadata": {
    "deletable": true,
    "editable": true
   },
   "source": [
    "# Conclusion\n",
    "\n",
    "SVM's provide an accurate prediction to non-linear data with $<10000$ training examples. Outside of CNNs (Convolutional Neural Networks), SVMs provide a reasonable prediction of datasets without much training. Hopefully, this has been an informative lesson on the effectiveness of SVMs."
   ]
  }
 ],
 "metadata": {
  "kernelspec": {
   "display_name": "Python 3",
   "language": "python",
   "name": "python3"
  },
  "language_info": {
   "codemirror_mode": {
    "name": "ipython",
    "version": 3
   },
   "file_extension": ".py",
   "mimetype": "text/x-python",
   "name": "python",
   "nbconvert_exporter": "python",
   "pygments_lexer": "ipython3",
   "version": "3.6.0"
  }
 },
 "nbformat": 4,
 "nbformat_minor": 2
}
